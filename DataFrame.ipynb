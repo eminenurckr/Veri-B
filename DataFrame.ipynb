{
  "nbformat": 4,
  "nbformat_minor": 0,
  "metadata": {
    "colab": {
      "name": "DataFrame.ipynb",
      "provenance": [],
      "authorship_tag": "ABX9TyP/xh69KO5Uidgz62e8/5h5",
      "include_colab_link": true
    },
    "kernelspec": {
      "name": "python3",
      "display_name": "Python 3"
    },
    "language_info": {
      "name": "python"
    }
  },
  "cells": [
    {
      "cell_type": "markdown",
      "metadata": {
        "id": "view-in-github",
        "colab_type": "text"
      },
      "source": [
        "<a href=\"https://colab.research.google.com/github/eminenurckr/Veri-B/blob/main/DataFrame.ipynb\" target=\"_parent\"><img src=\"https://colab.research.google.com/assets/colab-badge.svg\" alt=\"Open In Colab\"/></a>"
      ]
    },
    {
      "cell_type": "code",
      "metadata": {
        "id": "Jeon8F7XbmsW"
      },
      "source": [
        "#pandas modülü ekleme\n",
        "import pandas as pd\n",
        "import numpy as np\n",
        "\n",
        "from numpy.random import randn"
      ],
      "execution_count": null,
      "outputs": []
    },
    {
      "cell_type": "code",
      "metadata": {
        "colab": {
          "base_uri": "https://localhost:8080/"
        },
        "id": "2QmZ96PMbx78",
        "outputId": "f4aec7f3-080a-45ef-a010-828f6ff504d5"
      },
      "source": [
        "#series (tek boyutlu)\n",
        "seri=pd.Series([\"Bmw\",\"Toyota\", \"ww\"])\n",
        "seri"
      ],
      "execution_count": null,
      "outputs": [
        {
          "output_type": "execute_result",
          "data": {
            "text/plain": [
              "0       Bmw\n",
              "1    Toyota\n",
              "2        ww\n",
              "dtype: object"
            ]
          },
          "metadata": {},
          "execution_count": 8
        }
      ]
    },
    {
      "cell_type": "code",
      "metadata": {
        "colab": {
          "base_uri": "https://localhost:8080/"
        },
        "id": "o_BiB3iqc4hu",
        "outputId": "5b2166ae-9993-44cf-976e-2c2c6dab7cda"
      },
      "source": [
        "renkler=pd.Series([\"Beyaz\",\"Mavi\",\"Kırmızı\"])\n",
        "renkler"
      ],
      "execution_count": null,
      "outputs": [
        {
          "output_type": "execute_result",
          "data": {
            "text/plain": [
              "0      Beyaz\n",
              "1       Mavi\n",
              "2    Kırmızı\n",
              "dtype: object"
            ]
          },
          "metadata": {},
          "execution_count": 9
        }
      ]
    },
    {
      "cell_type": "code",
      "metadata": {
        "colab": {
          "base_uri": "https://localhost:8080/",
          "height": 143
        },
        "id": "bzJvo0yYdDLS",
        "outputId": "b6b71b23-51c7-4f85-abf8-4339ce4f3969"
      },
      "source": [
        "#daraframe (çok boyutlu yapılar) \n",
        "\n",
        "arac=pd.DataFrame({\"Marka\":seri,\"Renk\":renkler})\n",
        "arac"
      ],
      "execution_count": null,
      "outputs": [
        {
          "output_type": "execute_result",
          "data": {
            "text/html": [
              "<div>\n",
              "<style scoped>\n",
              "    .dataframe tbody tr th:only-of-type {\n",
              "        vertical-align: middle;\n",
              "    }\n",
              "\n",
              "    .dataframe tbody tr th {\n",
              "        vertical-align: top;\n",
              "    }\n",
              "\n",
              "    .dataframe thead th {\n",
              "        text-align: right;\n",
              "    }\n",
              "</style>\n",
              "<table border=\"1\" class=\"dataframe\">\n",
              "  <thead>\n",
              "    <tr style=\"text-align: right;\">\n",
              "      <th></th>\n",
              "      <th>Marka</th>\n",
              "      <th>Renk</th>\n",
              "    </tr>\n",
              "  </thead>\n",
              "  <tbody>\n",
              "    <tr>\n",
              "      <th>0</th>\n",
              "      <td>Bmw</td>\n",
              "      <td>Beyaz</td>\n",
              "    </tr>\n",
              "    <tr>\n",
              "      <th>1</th>\n",
              "      <td>Toyota</td>\n",
              "      <td>Mavi</td>\n",
              "    </tr>\n",
              "    <tr>\n",
              "      <th>2</th>\n",
              "      <td>ww</td>\n",
              "      <td>Kırmızı</td>\n",
              "    </tr>\n",
              "  </tbody>\n",
              "</table>\n",
              "</div>"
            ],
            "text/plain": [
              "    Marka     Renk\n",
              "0     Bmw    Beyaz\n",
              "1  Toyota     Mavi\n",
              "2      ww  Kırmızı"
            ]
          },
          "metadata": {},
          "execution_count": 12
        }
      ]
    },
    {
      "cell_type": "code",
      "metadata": {
        "colab": {
          "base_uri": "https://localhost:8080/",
          "height": 206
        },
        "id": "i2xCAwwsdxfA",
        "outputId": "84684e7b-64b0-4290-b2ab-a257adb7b604"
      },
      "source": [
        "df=pd.DataFrame(data=np.random.randn(5,5), index=[\"A\",\"B\",\"C\",\"D\",\"E\"],columns=[\"Sutun1\",\"Sutun2\",\"Sutun3\",\"Sutun4\",\"Sutun5\"])\n",
        "df"
      ],
      "execution_count": null,
      "outputs": [
        {
          "output_type": "execute_result",
          "data": {
            "text/html": [
              "<div>\n",
              "<style scoped>\n",
              "    .dataframe tbody tr th:only-of-type {\n",
              "        vertical-align: middle;\n",
              "    }\n",
              "\n",
              "    .dataframe tbody tr th {\n",
              "        vertical-align: top;\n",
              "    }\n",
              "\n",
              "    .dataframe thead th {\n",
              "        text-align: right;\n",
              "    }\n",
              "</style>\n",
              "<table border=\"1\" class=\"dataframe\">\n",
              "  <thead>\n",
              "    <tr style=\"text-align: right;\">\n",
              "      <th></th>\n",
              "      <th>Sutun1</th>\n",
              "      <th>Sutun2</th>\n",
              "      <th>Sutun3</th>\n",
              "      <th>Sutun4</th>\n",
              "      <th>Sutun5</th>\n",
              "    </tr>\n",
              "  </thead>\n",
              "  <tbody>\n",
              "    <tr>\n",
              "      <th>A</th>\n",
              "      <td>0.155755</td>\n",
              "      <td>0.102238</td>\n",
              "      <td>0.575859</td>\n",
              "      <td>0.928426</td>\n",
              "      <td>1.706348</td>\n",
              "    </tr>\n",
              "    <tr>\n",
              "      <th>B</th>\n",
              "      <td>0.678953</td>\n",
              "      <td>0.319645</td>\n",
              "      <td>0.858915</td>\n",
              "      <td>-0.373087</td>\n",
              "      <td>0.900741</td>\n",
              "    </tr>\n",
              "    <tr>\n",
              "      <th>C</th>\n",
              "      <td>0.671636</td>\n",
              "      <td>0.102659</td>\n",
              "      <td>-1.155351</td>\n",
              "      <td>0.922884</td>\n",
              "      <td>0.381375</td>\n",
              "    </tr>\n",
              "    <tr>\n",
              "      <th>D</th>\n",
              "      <td>0.845865</td>\n",
              "      <td>-2.184773</td>\n",
              "      <td>-2.271646</td>\n",
              "      <td>2.228017</td>\n",
              "      <td>-0.155642</td>\n",
              "    </tr>\n",
              "    <tr>\n",
              "      <th>E</th>\n",
              "      <td>0.038423</td>\n",
              "      <td>-1.059749</td>\n",
              "      <td>-0.685771</td>\n",
              "      <td>0.600730</td>\n",
              "      <td>1.348036</td>\n",
              "    </tr>\n",
              "  </tbody>\n",
              "</table>\n",
              "</div>"
            ],
            "text/plain": [
              "     Sutun1    Sutun2    Sutun3    Sutun4    Sutun5\n",
              "A  0.155755  0.102238  0.575859  0.928426  1.706348\n",
              "B  0.678953  0.319645  0.858915 -0.373087  0.900741\n",
              "C  0.671636  0.102659 -1.155351  0.922884  0.381375\n",
              "D  0.845865 -2.184773 -2.271646  2.228017 -0.155642\n",
              "E  0.038423 -1.059749 -0.685771  0.600730  1.348036"
            ]
          },
          "metadata": {},
          "execution_count": 29
        }
      ]
    },
    {
      "cell_type": "code",
      "metadata": {
        "colab": {
          "base_uri": "https://localhost:8080/"
        },
        "id": "6lsu665qgU4p",
        "outputId": "1b5aa42c-ce14-472d-a85d-8c6221bd92fd"
      },
      "source": [
        "#bir sütun seçmek için\n",
        "df['Sutun1']"
      ],
      "execution_count": null,
      "outputs": [
        {
          "output_type": "execute_result",
          "data": {
            "text/plain": [
              "A    0.155755\n",
              "B    0.678953\n",
              "C    0.671636\n",
              "D    0.845865\n",
              "E    0.038423\n",
              "Name: Sutun1, dtype: float64"
            ]
          },
          "metadata": {},
          "execution_count": 30
        }
      ]
    },
    {
      "cell_type": "code",
      "metadata": {
        "colab": {
          "base_uri": "https://localhost:8080/",
          "height": 206
        },
        "id": "Rru-6UEkg0TQ",
        "outputId": "baae5f43-583e-4b93-95f9-1f10f22e0c94"
      },
      "source": [
        "#İki sütun seçmek\n",
        "df[['Sutun1','Sutun2']]"
      ],
      "execution_count": null,
      "outputs": [
        {
          "output_type": "execute_result",
          "data": {
            "text/html": [
              "<div>\n",
              "<style scoped>\n",
              "    .dataframe tbody tr th:only-of-type {\n",
              "        vertical-align: middle;\n",
              "    }\n",
              "\n",
              "    .dataframe tbody tr th {\n",
              "        vertical-align: top;\n",
              "    }\n",
              "\n",
              "    .dataframe thead th {\n",
              "        text-align: right;\n",
              "    }\n",
              "</style>\n",
              "<table border=\"1\" class=\"dataframe\">\n",
              "  <thead>\n",
              "    <tr style=\"text-align: right;\">\n",
              "      <th></th>\n",
              "      <th>Sutun1</th>\n",
              "      <th>Sutun2</th>\n",
              "    </tr>\n",
              "  </thead>\n",
              "  <tbody>\n",
              "    <tr>\n",
              "      <th>A</th>\n",
              "      <td>0.155755</td>\n",
              "      <td>0.102238</td>\n",
              "    </tr>\n",
              "    <tr>\n",
              "      <th>B</th>\n",
              "      <td>0.678953</td>\n",
              "      <td>0.319645</td>\n",
              "    </tr>\n",
              "    <tr>\n",
              "      <th>C</th>\n",
              "      <td>0.671636</td>\n",
              "      <td>0.102659</td>\n",
              "    </tr>\n",
              "    <tr>\n",
              "      <th>D</th>\n",
              "      <td>0.845865</td>\n",
              "      <td>-2.184773</td>\n",
              "    </tr>\n",
              "    <tr>\n",
              "      <th>E</th>\n",
              "      <td>0.038423</td>\n",
              "      <td>-1.059749</td>\n",
              "    </tr>\n",
              "  </tbody>\n",
              "</table>\n",
              "</div>"
            ],
            "text/plain": [
              "     Sutun1    Sutun2\n",
              "A  0.155755  0.102238\n",
              "B  0.678953  0.319645\n",
              "C  0.671636  0.102659\n",
              "D  0.845865 -2.184773\n",
              "E  0.038423 -1.059749"
            ]
          },
          "metadata": {},
          "execution_count": 31
        }
      ]
    },
    {
      "cell_type": "code",
      "metadata": {
        "id": "gNg0v0KxhDt7"
      },
      "source": [
        "#veri kümesi oluşturma\n",
        "sozluk = {'İsim':pd.Series(['Ada','Cem','Sibel','Ahmet','Mehmet','Ali','Veli',\n",
        "          'Ayşe','Hüseyin','Necmi','Nalan','Namık']),\n",
        "          'Meslek':pd.Series(['işçi','işçi','memur','serbest','serbest',None,None,\n",
        "          'sigortacı','işsiz',None,None,'memur']),\n",
        "          'Tarih':pd.Series(['11.11.2010','11.11.2010','11.11.2010','18.11.2011','18.11.2011',None,None,\n",
        "          None,'11.11.2010',None,'18.11.2011','18.11.2011']),          \n",
        "          'Yaş':pd.Series([21, 24, 25, 44, 31, 27, 35, 33, 42, 29, 41, 43]),\n",
        "          'ÇocukSayısı':pd.Series([None, None, None, None, None, 1, 2, 0, None, None, None, None]),\n",
        "          'Puan':pd.Series([89, 87, 77, 55, 70, 79, 73, 79, 54, 92, 61, 69])}"
      ],
      "execution_count": null,
      "outputs": []
    },
    {
      "cell_type": "code",
      "metadata": {
        "colab": {
          "base_uri": "https://localhost:8080/",
          "height": 426
        },
        "id": "PZO78n-diNII",
        "outputId": "8c8a50ee-5e8b-4272-ee98-0b85ed6a60d0"
      },
      "source": [
        "df=pd.DataFrame(sozluk)\n",
        "df"
      ],
      "execution_count": null,
      "outputs": [
        {
          "output_type": "execute_result",
          "data": {
            "text/html": [
              "<div>\n",
              "<style scoped>\n",
              "    .dataframe tbody tr th:only-of-type {\n",
              "        vertical-align: middle;\n",
              "    }\n",
              "\n",
              "    .dataframe tbody tr th {\n",
              "        vertical-align: top;\n",
              "    }\n",
              "\n",
              "    .dataframe thead th {\n",
              "        text-align: right;\n",
              "    }\n",
              "</style>\n",
              "<table border=\"1\" class=\"dataframe\">\n",
              "  <thead>\n",
              "    <tr style=\"text-align: right;\">\n",
              "      <th></th>\n",
              "      <th>İsim</th>\n",
              "      <th>Meslek</th>\n",
              "      <th>Tarih</th>\n",
              "      <th>Yaş</th>\n",
              "      <th>ÇocukSayısı</th>\n",
              "      <th>Puan</th>\n",
              "    </tr>\n",
              "  </thead>\n",
              "  <tbody>\n",
              "    <tr>\n",
              "      <th>0</th>\n",
              "      <td>Ada</td>\n",
              "      <td>işçi</td>\n",
              "      <td>11.11.2010</td>\n",
              "      <td>21</td>\n",
              "      <td>NaN</td>\n",
              "      <td>89</td>\n",
              "    </tr>\n",
              "    <tr>\n",
              "      <th>1</th>\n",
              "      <td>Cem</td>\n",
              "      <td>işçi</td>\n",
              "      <td>11.11.2010</td>\n",
              "      <td>24</td>\n",
              "      <td>NaN</td>\n",
              "      <td>87</td>\n",
              "    </tr>\n",
              "    <tr>\n",
              "      <th>2</th>\n",
              "      <td>Sibel</td>\n",
              "      <td>memur</td>\n",
              "      <td>11.11.2010</td>\n",
              "      <td>25</td>\n",
              "      <td>NaN</td>\n",
              "      <td>77</td>\n",
              "    </tr>\n",
              "    <tr>\n",
              "      <th>3</th>\n",
              "      <td>Ahmet</td>\n",
              "      <td>serbest</td>\n",
              "      <td>18.11.2011</td>\n",
              "      <td>44</td>\n",
              "      <td>NaN</td>\n",
              "      <td>55</td>\n",
              "    </tr>\n",
              "    <tr>\n",
              "      <th>4</th>\n",
              "      <td>Mehmet</td>\n",
              "      <td>serbest</td>\n",
              "      <td>18.11.2011</td>\n",
              "      <td>31</td>\n",
              "      <td>NaN</td>\n",
              "      <td>70</td>\n",
              "    </tr>\n",
              "    <tr>\n",
              "      <th>5</th>\n",
              "      <td>Ali</td>\n",
              "      <td>None</td>\n",
              "      <td>None</td>\n",
              "      <td>27</td>\n",
              "      <td>1.0</td>\n",
              "      <td>79</td>\n",
              "    </tr>\n",
              "    <tr>\n",
              "      <th>6</th>\n",
              "      <td>Veli</td>\n",
              "      <td>None</td>\n",
              "      <td>None</td>\n",
              "      <td>35</td>\n",
              "      <td>2.0</td>\n",
              "      <td>73</td>\n",
              "    </tr>\n",
              "    <tr>\n",
              "      <th>7</th>\n",
              "      <td>Ayşe</td>\n",
              "      <td>sigortacı</td>\n",
              "      <td>None</td>\n",
              "      <td>33</td>\n",
              "      <td>0.0</td>\n",
              "      <td>79</td>\n",
              "    </tr>\n",
              "    <tr>\n",
              "      <th>8</th>\n",
              "      <td>Hüseyin</td>\n",
              "      <td>işsiz</td>\n",
              "      <td>11.11.2010</td>\n",
              "      <td>42</td>\n",
              "      <td>NaN</td>\n",
              "      <td>54</td>\n",
              "    </tr>\n",
              "    <tr>\n",
              "      <th>9</th>\n",
              "      <td>Necmi</td>\n",
              "      <td>None</td>\n",
              "      <td>None</td>\n",
              "      <td>29</td>\n",
              "      <td>NaN</td>\n",
              "      <td>92</td>\n",
              "    </tr>\n",
              "    <tr>\n",
              "      <th>10</th>\n",
              "      <td>Nalan</td>\n",
              "      <td>None</td>\n",
              "      <td>18.11.2011</td>\n",
              "      <td>41</td>\n",
              "      <td>NaN</td>\n",
              "      <td>61</td>\n",
              "    </tr>\n",
              "    <tr>\n",
              "      <th>11</th>\n",
              "      <td>Namık</td>\n",
              "      <td>memur</td>\n",
              "      <td>18.11.2011</td>\n",
              "      <td>43</td>\n",
              "      <td>NaN</td>\n",
              "      <td>69</td>\n",
              "    </tr>\n",
              "  </tbody>\n",
              "</table>\n",
              "</div>"
            ],
            "text/plain": [
              "       İsim     Meslek       Tarih  Yaş  ÇocukSayısı  Puan\n",
              "0       Ada       işçi  11.11.2010   21          NaN    89\n",
              "1       Cem       işçi  11.11.2010   24          NaN    87\n",
              "2     Sibel      memur  11.11.2010   25          NaN    77\n",
              "3     Ahmet    serbest  18.11.2011   44          NaN    55\n",
              "4    Mehmet    serbest  18.11.2011   31          NaN    70\n",
              "5       Ali       None        None   27          1.0    79\n",
              "6      Veli       None        None   35          2.0    73\n",
              "7      Ayşe  sigortacı        None   33          0.0    79\n",
              "8   Hüseyin      işsiz  11.11.2010   42          NaN    54\n",
              "9     Necmi       None        None   29          NaN    92\n",
              "10    Nalan       None  18.11.2011   41          NaN    61\n",
              "11    Namık      memur  18.11.2011   43          NaN    69"
            ]
          },
          "metadata": {},
          "execution_count": 34
        }
      ]
    },
    {
      "cell_type": "code",
      "metadata": {
        "colab": {
          "base_uri": "https://localhost:8080/",
          "height": 206
        },
        "id": "a_QWzkciijWq",
        "outputId": "88747f7e-d9cc-4414-92fa-ac53539fbff5"
      },
      "source": [
        "#ilk 5 gözlemi göster\n",
        "df.head()"
      ],
      "execution_count": null,
      "outputs": [
        {
          "output_type": "execute_result",
          "data": {
            "text/html": [
              "<div>\n",
              "<style scoped>\n",
              "    .dataframe tbody tr th:only-of-type {\n",
              "        vertical-align: middle;\n",
              "    }\n",
              "\n",
              "    .dataframe tbody tr th {\n",
              "        vertical-align: top;\n",
              "    }\n",
              "\n",
              "    .dataframe thead th {\n",
              "        text-align: right;\n",
              "    }\n",
              "</style>\n",
              "<table border=\"1\" class=\"dataframe\">\n",
              "  <thead>\n",
              "    <tr style=\"text-align: right;\">\n",
              "      <th></th>\n",
              "      <th>İsim</th>\n",
              "      <th>Meslek</th>\n",
              "      <th>Tarih</th>\n",
              "      <th>Yaş</th>\n",
              "      <th>ÇocukSayısı</th>\n",
              "      <th>Puan</th>\n",
              "    </tr>\n",
              "  </thead>\n",
              "  <tbody>\n",
              "    <tr>\n",
              "      <th>0</th>\n",
              "      <td>Ada</td>\n",
              "      <td>işçi</td>\n",
              "      <td>11.11.2010</td>\n",
              "      <td>21</td>\n",
              "      <td>NaN</td>\n",
              "      <td>89</td>\n",
              "    </tr>\n",
              "    <tr>\n",
              "      <th>1</th>\n",
              "      <td>Cem</td>\n",
              "      <td>işçi</td>\n",
              "      <td>11.11.2010</td>\n",
              "      <td>24</td>\n",
              "      <td>NaN</td>\n",
              "      <td>87</td>\n",
              "    </tr>\n",
              "    <tr>\n",
              "      <th>2</th>\n",
              "      <td>Sibel</td>\n",
              "      <td>memur</td>\n",
              "      <td>11.11.2010</td>\n",
              "      <td>25</td>\n",
              "      <td>NaN</td>\n",
              "      <td>77</td>\n",
              "    </tr>\n",
              "    <tr>\n",
              "      <th>3</th>\n",
              "      <td>Ahmet</td>\n",
              "      <td>serbest</td>\n",
              "      <td>18.11.2011</td>\n",
              "      <td>44</td>\n",
              "      <td>NaN</td>\n",
              "      <td>55</td>\n",
              "    </tr>\n",
              "    <tr>\n",
              "      <th>4</th>\n",
              "      <td>Mehmet</td>\n",
              "      <td>serbest</td>\n",
              "      <td>18.11.2011</td>\n",
              "      <td>31</td>\n",
              "      <td>NaN</td>\n",
              "      <td>70</td>\n",
              "    </tr>\n",
              "  </tbody>\n",
              "</table>\n",
              "</div>"
            ],
            "text/plain": [
              "     İsim   Meslek       Tarih  Yaş  ÇocukSayısı  Puan\n",
              "0     Ada     işçi  11.11.2010   21          NaN    89\n",
              "1     Cem     işçi  11.11.2010   24          NaN    87\n",
              "2   Sibel    memur  11.11.2010   25          NaN    77\n",
              "3   Ahmet  serbest  18.11.2011   44          NaN    55\n",
              "4  Mehmet  serbest  18.11.2011   31          NaN    70"
            ]
          },
          "metadata": {},
          "execution_count": 35
        }
      ]
    },
    {
      "cell_type": "code",
      "metadata": {
        "colab": {
          "base_uri": "https://localhost:8080/",
          "height": 206
        },
        "id": "G4Jare4git9y",
        "outputId": "45730ab2-b2e9-49ae-eee1-9723fbebdc70"
      },
      "source": [
        "#son 5 gözlem\n",
        "df.tail()"
      ],
      "execution_count": null,
      "outputs": [
        {
          "output_type": "execute_result",
          "data": {
            "text/html": [
              "<div>\n",
              "<style scoped>\n",
              "    .dataframe tbody tr th:only-of-type {\n",
              "        vertical-align: middle;\n",
              "    }\n",
              "\n",
              "    .dataframe tbody tr th {\n",
              "        vertical-align: top;\n",
              "    }\n",
              "\n",
              "    .dataframe thead th {\n",
              "        text-align: right;\n",
              "    }\n",
              "</style>\n",
              "<table border=\"1\" class=\"dataframe\">\n",
              "  <thead>\n",
              "    <tr style=\"text-align: right;\">\n",
              "      <th></th>\n",
              "      <th>İsim</th>\n",
              "      <th>Meslek</th>\n",
              "      <th>Tarih</th>\n",
              "      <th>Yaş</th>\n",
              "      <th>ÇocukSayısı</th>\n",
              "      <th>Puan</th>\n",
              "    </tr>\n",
              "  </thead>\n",
              "  <tbody>\n",
              "    <tr>\n",
              "      <th>7</th>\n",
              "      <td>Ayşe</td>\n",
              "      <td>sigortacı</td>\n",
              "      <td>None</td>\n",
              "      <td>33</td>\n",
              "      <td>0.0</td>\n",
              "      <td>79</td>\n",
              "    </tr>\n",
              "    <tr>\n",
              "      <th>8</th>\n",
              "      <td>Hüseyin</td>\n",
              "      <td>işsiz</td>\n",
              "      <td>11.11.2010</td>\n",
              "      <td>42</td>\n",
              "      <td>NaN</td>\n",
              "      <td>54</td>\n",
              "    </tr>\n",
              "    <tr>\n",
              "      <th>9</th>\n",
              "      <td>Necmi</td>\n",
              "      <td>None</td>\n",
              "      <td>None</td>\n",
              "      <td>29</td>\n",
              "      <td>NaN</td>\n",
              "      <td>92</td>\n",
              "    </tr>\n",
              "    <tr>\n",
              "      <th>10</th>\n",
              "      <td>Nalan</td>\n",
              "      <td>None</td>\n",
              "      <td>18.11.2011</td>\n",
              "      <td>41</td>\n",
              "      <td>NaN</td>\n",
              "      <td>61</td>\n",
              "    </tr>\n",
              "    <tr>\n",
              "      <th>11</th>\n",
              "      <td>Namık</td>\n",
              "      <td>memur</td>\n",
              "      <td>18.11.2011</td>\n",
              "      <td>43</td>\n",
              "      <td>NaN</td>\n",
              "      <td>69</td>\n",
              "    </tr>\n",
              "  </tbody>\n",
              "</table>\n",
              "</div>"
            ],
            "text/plain": [
              "       İsim     Meslek       Tarih  Yaş  ÇocukSayısı  Puan\n",
              "7      Ayşe  sigortacı        None   33          0.0    79\n",
              "8   Hüseyin      işsiz  11.11.2010   42          NaN    54\n",
              "9     Necmi       None        None   29          NaN    92\n",
              "10    Nalan       None  18.11.2011   41          NaN    61\n",
              "11    Namık      memur  18.11.2011   43          NaN    69"
            ]
          },
          "metadata": {},
          "execution_count": 36
        }
      ]
    },
    {
      "cell_type": "code",
      "metadata": {
        "colab": {
          "base_uri": "https://localhost:8080/",
          "height": 175
        },
        "id": "k87pa_vUixwl",
        "outputId": "25da3229-53d5-4a87-bfb7-021f7364b0f0"
      },
      "source": [
        "#rastgele 4 gözlem\n",
        "df.sample(4)"
      ],
      "execution_count": null,
      "outputs": [
        {
          "output_type": "execute_result",
          "data": {
            "text/html": [
              "<div>\n",
              "<style scoped>\n",
              "    .dataframe tbody tr th:only-of-type {\n",
              "        vertical-align: middle;\n",
              "    }\n",
              "\n",
              "    .dataframe tbody tr th {\n",
              "        vertical-align: top;\n",
              "    }\n",
              "\n",
              "    .dataframe thead th {\n",
              "        text-align: right;\n",
              "    }\n",
              "</style>\n",
              "<table border=\"1\" class=\"dataframe\">\n",
              "  <thead>\n",
              "    <tr style=\"text-align: right;\">\n",
              "      <th></th>\n",
              "      <th>İsim</th>\n",
              "      <th>Meslek</th>\n",
              "      <th>Tarih</th>\n",
              "      <th>Yaş</th>\n",
              "      <th>ÇocukSayısı</th>\n",
              "      <th>Puan</th>\n",
              "    </tr>\n",
              "  </thead>\n",
              "  <tbody>\n",
              "    <tr>\n",
              "      <th>8</th>\n",
              "      <td>Hüseyin</td>\n",
              "      <td>işsiz</td>\n",
              "      <td>11.11.2010</td>\n",
              "      <td>42</td>\n",
              "      <td>NaN</td>\n",
              "      <td>54</td>\n",
              "    </tr>\n",
              "    <tr>\n",
              "      <th>11</th>\n",
              "      <td>Namık</td>\n",
              "      <td>memur</td>\n",
              "      <td>18.11.2011</td>\n",
              "      <td>43</td>\n",
              "      <td>NaN</td>\n",
              "      <td>69</td>\n",
              "    </tr>\n",
              "    <tr>\n",
              "      <th>2</th>\n",
              "      <td>Sibel</td>\n",
              "      <td>memur</td>\n",
              "      <td>11.11.2010</td>\n",
              "      <td>25</td>\n",
              "      <td>NaN</td>\n",
              "      <td>77</td>\n",
              "    </tr>\n",
              "    <tr>\n",
              "      <th>5</th>\n",
              "      <td>Ali</td>\n",
              "      <td>None</td>\n",
              "      <td>None</td>\n",
              "      <td>27</td>\n",
              "      <td>1.0</td>\n",
              "      <td>79</td>\n",
              "    </tr>\n",
              "  </tbody>\n",
              "</table>\n",
              "</div>"
            ],
            "text/plain": [
              "       İsim Meslek       Tarih  Yaş  ÇocukSayısı  Puan\n",
              "8   Hüseyin  işsiz  11.11.2010   42          NaN    54\n",
              "11    Namık  memur  18.11.2011   43          NaN    69\n",
              "2     Sibel  memur  11.11.2010   25          NaN    77\n",
              "5       Ali   None        None   27          1.0    79"
            ]
          },
          "metadata": {},
          "execution_count": 38
        }
      ]
    },
    {
      "cell_type": "code",
      "metadata": {
        "colab": {
          "base_uri": "https://localhost:8080/"
        },
        "id": "6X6CegX2i6w-",
        "outputId": "219ab170-8c4f-4286-d531-fbd7554dc9b1"
      },
      "source": [
        "#satır ve sütun sayısı\n",
        "df.shape"
      ],
      "execution_count": null,
      "outputs": [
        {
          "output_type": "execute_result",
          "data": {
            "text/plain": [
              "(12, 6)"
            ]
          },
          "metadata": {},
          "execution_count": 40
        }
      ]
    },
    {
      "cell_type": "code",
      "metadata": {
        "colab": {
          "base_uri": "https://localhost:8080/"
        },
        "id": "lCGYBrOcjNnE",
        "outputId": "ae1d6f59-d552-4101-ae97-4404cddc2799"
      },
      "source": [
        "#özniteliklerin veri türleri ve içerdikleri kayıt sayısı, bellek kullanımları\n",
        "df.info()"
      ],
      "execution_count": null,
      "outputs": [
        {
          "output_type": "stream",
          "name": "stdout",
          "text": [
            "<class 'pandas.core.frame.DataFrame'>\n",
            "RangeIndex: 12 entries, 0 to 11\n",
            "Data columns (total 6 columns):\n",
            " #   Column       Non-Null Count  Dtype  \n",
            "---  ------       --------------  -----  \n",
            " 0   İsim         12 non-null     object \n",
            " 1   Meslek       8 non-null      object \n",
            " 2   Tarih        8 non-null      object \n",
            " 3   Yaş          12 non-null     int64  \n",
            " 4   ÇocukSayısı  3 non-null      float64\n",
            " 5   Puan         12 non-null     int64  \n",
            "dtypes: float64(1), int64(2), object(3)\n",
            "memory usage: 704.0+ bytes\n"
          ]
        }
      ]
    },
    {
      "cell_type": "code",
      "metadata": {
        "colab": {
          "base_uri": "https://localhost:8080/",
          "height": 300
        },
        "id": "tUeJMmTqjs6z",
        "outputId": "42b1f7a2-d5df-4f22-b840-f4de7d1361b3"
      },
      "source": [
        "df.describe()"
      ],
      "execution_count": null,
      "outputs": [
        {
          "output_type": "execute_result",
          "data": {
            "text/html": [
              "<div>\n",
              "<style scoped>\n",
              "    .dataframe tbody tr th:only-of-type {\n",
              "        vertical-align: middle;\n",
              "    }\n",
              "\n",
              "    .dataframe tbody tr th {\n",
              "        vertical-align: top;\n",
              "    }\n",
              "\n",
              "    .dataframe thead th {\n",
              "        text-align: right;\n",
              "    }\n",
              "</style>\n",
              "<table border=\"1\" class=\"dataframe\">\n",
              "  <thead>\n",
              "    <tr style=\"text-align: right;\">\n",
              "      <th></th>\n",
              "      <th>Yaş</th>\n",
              "      <th>ÇocukSayısı</th>\n",
              "      <th>Puan</th>\n",
              "    </tr>\n",
              "  </thead>\n",
              "  <tbody>\n",
              "    <tr>\n",
              "      <th>count</th>\n",
              "      <td>12.000000</td>\n",
              "      <td>3.0</td>\n",
              "      <td>12.000000</td>\n",
              "    </tr>\n",
              "    <tr>\n",
              "      <th>mean</th>\n",
              "      <td>32.916667</td>\n",
              "      <td>1.0</td>\n",
              "      <td>73.750000</td>\n",
              "    </tr>\n",
              "    <tr>\n",
              "      <th>std</th>\n",
              "      <td>8.061788</td>\n",
              "      <td>1.0</td>\n",
              "      <td>12.606816</td>\n",
              "    </tr>\n",
              "    <tr>\n",
              "      <th>min</th>\n",
              "      <td>21.000000</td>\n",
              "      <td>0.0</td>\n",
              "      <td>54.000000</td>\n",
              "    </tr>\n",
              "    <tr>\n",
              "      <th>25%</th>\n",
              "      <td>26.500000</td>\n",
              "      <td>0.5</td>\n",
              "      <td>67.000000</td>\n",
              "    </tr>\n",
              "    <tr>\n",
              "      <th>50%</th>\n",
              "      <td>32.000000</td>\n",
              "      <td>1.0</td>\n",
              "      <td>75.000000</td>\n",
              "    </tr>\n",
              "    <tr>\n",
              "      <th>75%</th>\n",
              "      <td>41.250000</td>\n",
              "      <td>1.5</td>\n",
              "      <td>81.000000</td>\n",
              "    </tr>\n",
              "    <tr>\n",
              "      <th>max</th>\n",
              "      <td>44.000000</td>\n",
              "      <td>2.0</td>\n",
              "      <td>92.000000</td>\n",
              "    </tr>\n",
              "  </tbody>\n",
              "</table>\n",
              "</div>"
            ],
            "text/plain": [
              "             Yaş  ÇocukSayısı       Puan\n",
              "count  12.000000          3.0  12.000000\n",
              "mean   32.916667          1.0  73.750000\n",
              "std     8.061788          1.0  12.606816\n",
              "min    21.000000          0.0  54.000000\n",
              "25%    26.500000          0.5  67.000000\n",
              "50%    32.000000          1.0  75.000000\n",
              "75%    41.250000          1.5  81.000000\n",
              "max    44.000000          2.0  92.000000"
            ]
          },
          "metadata": {},
          "execution_count": 42
        }
      ]
    },
    {
      "cell_type": "code",
      "metadata": {
        "colab": {
          "base_uri": "https://localhost:8080/",
          "height": 143
        },
        "id": "l04jxiKkjyiG",
        "outputId": "f4aa3d19-f10e-4fed-cdf5-5a691b75adee"
      },
      "source": [
        "df.describe().T"
      ],
      "execution_count": null,
      "outputs": [
        {
          "output_type": "execute_result",
          "data": {
            "text/html": [
              "<div>\n",
              "<style scoped>\n",
              "    .dataframe tbody tr th:only-of-type {\n",
              "        vertical-align: middle;\n",
              "    }\n",
              "\n",
              "    .dataframe tbody tr th {\n",
              "        vertical-align: top;\n",
              "    }\n",
              "\n",
              "    .dataframe thead th {\n",
              "        text-align: right;\n",
              "    }\n",
              "</style>\n",
              "<table border=\"1\" class=\"dataframe\">\n",
              "  <thead>\n",
              "    <tr style=\"text-align: right;\">\n",
              "      <th></th>\n",
              "      <th>count</th>\n",
              "      <th>mean</th>\n",
              "      <th>std</th>\n",
              "      <th>min</th>\n",
              "      <th>25%</th>\n",
              "      <th>50%</th>\n",
              "      <th>75%</th>\n",
              "      <th>max</th>\n",
              "    </tr>\n",
              "  </thead>\n",
              "  <tbody>\n",
              "    <tr>\n",
              "      <th>Yaş</th>\n",
              "      <td>12.0</td>\n",
              "      <td>32.916667</td>\n",
              "      <td>8.061788</td>\n",
              "      <td>21.0</td>\n",
              "      <td>26.5</td>\n",
              "      <td>32.0</td>\n",
              "      <td>41.25</td>\n",
              "      <td>44.0</td>\n",
              "    </tr>\n",
              "    <tr>\n",
              "      <th>ÇocukSayısı</th>\n",
              "      <td>3.0</td>\n",
              "      <td>1.000000</td>\n",
              "      <td>1.000000</td>\n",
              "      <td>0.0</td>\n",
              "      <td>0.5</td>\n",
              "      <td>1.0</td>\n",
              "      <td>1.50</td>\n",
              "      <td>2.0</td>\n",
              "    </tr>\n",
              "    <tr>\n",
              "      <th>Puan</th>\n",
              "      <td>12.0</td>\n",
              "      <td>73.750000</td>\n",
              "      <td>12.606816</td>\n",
              "      <td>54.0</td>\n",
              "      <td>67.0</td>\n",
              "      <td>75.0</td>\n",
              "      <td>81.00</td>\n",
              "      <td>92.0</td>\n",
              "    </tr>\n",
              "  </tbody>\n",
              "</table>\n",
              "</div>"
            ],
            "text/plain": [
              "             count       mean        std   min   25%   50%    75%   max\n",
              "Yaş           12.0  32.916667   8.061788  21.0  26.5  32.0  41.25  44.0\n",
              "ÇocukSayısı    3.0   1.000000   1.000000   0.0   0.5   1.0   1.50   2.0\n",
              "Puan          12.0  73.750000  12.606816  54.0  67.0  75.0  81.00  92.0"
            ]
          },
          "metadata": {},
          "execution_count": 43
        }
      ]
    },
    {
      "cell_type": "code",
      "metadata": {
        "colab": {
          "base_uri": "https://localhost:8080/"
        },
        "id": "8ub843Uoj172",
        "outputId": "96c5a8bb-f050-465a-a890-9581c4409086"
      },
      "source": [
        "df[\"Yaş\"]"
      ],
      "execution_count": null,
      "outputs": [
        {
          "output_type": "execute_result",
          "data": {
            "text/plain": [
              "0     21\n",
              "1     24\n",
              "2     25\n",
              "3     44\n",
              "4     31\n",
              "5     27\n",
              "6     35\n",
              "7     33\n",
              "8     42\n",
              "9     29\n",
              "10    41\n",
              "11    43\n",
              "Name: Yaş, dtype: int64"
            ]
          },
          "metadata": {},
          "execution_count": 44
        }
      ]
    },
    {
      "cell_type": "code",
      "metadata": {
        "colab": {
          "base_uri": "https://localhost:8080/"
        },
        "id": "ThLjFRSKj7Zh",
        "outputId": "984cde68-949f-46aa-ace8-c7561f8c76fe"
      },
      "source": [
        "df['Yaş'][:5]"
      ],
      "execution_count": null,
      "outputs": [
        {
          "output_type": "execute_result",
          "data": {
            "text/plain": [
              "0    21\n",
              "1    24\n",
              "2    25\n",
              "3    44\n",
              "4    31\n",
              "Name: Yaş, dtype: int64"
            ]
          },
          "metadata": {},
          "execution_count": 45
        }
      ]
    },
    {
      "cell_type": "code",
      "metadata": {
        "colab": {
          "base_uri": "https://localhost:8080/",
          "height": 269
        },
        "id": "AycUpQQHkM-O",
        "outputId": "8a36499f-5dc4-4eed-b877-46c3a5e0b02f"
      },
      "source": [
        "#yaşı 30dan büyük ve puanı 50den büyük olanlar\n",
        "df[(df['Yaş']>30)&(df['Puan']>50)]"
      ],
      "execution_count": null,
      "outputs": [
        {
          "output_type": "execute_result",
          "data": {
            "text/html": [
              "<div>\n",
              "<style scoped>\n",
              "    .dataframe tbody tr th:only-of-type {\n",
              "        vertical-align: middle;\n",
              "    }\n",
              "\n",
              "    .dataframe tbody tr th {\n",
              "        vertical-align: top;\n",
              "    }\n",
              "\n",
              "    .dataframe thead th {\n",
              "        text-align: right;\n",
              "    }\n",
              "</style>\n",
              "<table border=\"1\" class=\"dataframe\">\n",
              "  <thead>\n",
              "    <tr style=\"text-align: right;\">\n",
              "      <th></th>\n",
              "      <th>İsim</th>\n",
              "      <th>Meslek</th>\n",
              "      <th>Tarih</th>\n",
              "      <th>Yaş</th>\n",
              "      <th>ÇocukSayısı</th>\n",
              "      <th>Puan</th>\n",
              "    </tr>\n",
              "  </thead>\n",
              "  <tbody>\n",
              "    <tr>\n",
              "      <th>3</th>\n",
              "      <td>Ahmet</td>\n",
              "      <td>serbest</td>\n",
              "      <td>18.11.2011</td>\n",
              "      <td>44</td>\n",
              "      <td>NaN</td>\n",
              "      <td>55</td>\n",
              "    </tr>\n",
              "    <tr>\n",
              "      <th>4</th>\n",
              "      <td>Mehmet</td>\n",
              "      <td>serbest</td>\n",
              "      <td>18.11.2011</td>\n",
              "      <td>31</td>\n",
              "      <td>NaN</td>\n",
              "      <td>70</td>\n",
              "    </tr>\n",
              "    <tr>\n",
              "      <th>6</th>\n",
              "      <td>Veli</td>\n",
              "      <td>None</td>\n",
              "      <td>None</td>\n",
              "      <td>35</td>\n",
              "      <td>2.0</td>\n",
              "      <td>73</td>\n",
              "    </tr>\n",
              "    <tr>\n",
              "      <th>7</th>\n",
              "      <td>Ayşe</td>\n",
              "      <td>sigortacı</td>\n",
              "      <td>None</td>\n",
              "      <td>33</td>\n",
              "      <td>0.0</td>\n",
              "      <td>79</td>\n",
              "    </tr>\n",
              "    <tr>\n",
              "      <th>8</th>\n",
              "      <td>Hüseyin</td>\n",
              "      <td>işsiz</td>\n",
              "      <td>11.11.2010</td>\n",
              "      <td>42</td>\n",
              "      <td>NaN</td>\n",
              "      <td>54</td>\n",
              "    </tr>\n",
              "    <tr>\n",
              "      <th>10</th>\n",
              "      <td>Nalan</td>\n",
              "      <td>None</td>\n",
              "      <td>18.11.2011</td>\n",
              "      <td>41</td>\n",
              "      <td>NaN</td>\n",
              "      <td>61</td>\n",
              "    </tr>\n",
              "    <tr>\n",
              "      <th>11</th>\n",
              "      <td>Namık</td>\n",
              "      <td>memur</td>\n",
              "      <td>18.11.2011</td>\n",
              "      <td>43</td>\n",
              "      <td>NaN</td>\n",
              "      <td>69</td>\n",
              "    </tr>\n",
              "  </tbody>\n",
              "</table>\n",
              "</div>"
            ],
            "text/plain": [
              "       İsim     Meslek       Tarih  Yaş  ÇocukSayısı  Puan\n",
              "3     Ahmet    serbest  18.11.2011   44          NaN    55\n",
              "4    Mehmet    serbest  18.11.2011   31          NaN    70\n",
              "6      Veli       None        None   35          2.0    73\n",
              "7      Ayşe  sigortacı        None   33          0.0    79\n",
              "8   Hüseyin      işsiz  11.11.2010   42          NaN    54\n",
              "10    Nalan       None  18.11.2011   41          NaN    61\n",
              "11    Namık      memur  18.11.2011   43          NaN    69"
            ]
          },
          "metadata": {},
          "execution_count": 47
        }
      ]
    },
    {
      "cell_type": "code",
      "metadata": {
        "colab": {
          "base_uri": "https://localhost:8080/",
          "height": 269
        },
        "id": "VR_S4gnTksJW",
        "outputId": "0eef66d4-a80a-40c1-8ccc-1fa14d4053c9"
      },
      "source": [
        "#query yani işlem\n",
        "df_filtrele=df.query('Yaş>30 & Puan>50')\n",
        "df_filtrele"
      ],
      "execution_count": null,
      "outputs": [
        {
          "output_type": "execute_result",
          "data": {
            "text/html": [
              "<div>\n",
              "<style scoped>\n",
              "    .dataframe tbody tr th:only-of-type {\n",
              "        vertical-align: middle;\n",
              "    }\n",
              "\n",
              "    .dataframe tbody tr th {\n",
              "        vertical-align: top;\n",
              "    }\n",
              "\n",
              "    .dataframe thead th {\n",
              "        text-align: right;\n",
              "    }\n",
              "</style>\n",
              "<table border=\"1\" class=\"dataframe\">\n",
              "  <thead>\n",
              "    <tr style=\"text-align: right;\">\n",
              "      <th></th>\n",
              "      <th>İsim</th>\n",
              "      <th>Meslek</th>\n",
              "      <th>Tarih</th>\n",
              "      <th>Yaş</th>\n",
              "      <th>ÇocukSayısı</th>\n",
              "      <th>Puan</th>\n",
              "    </tr>\n",
              "  </thead>\n",
              "  <tbody>\n",
              "    <tr>\n",
              "      <th>3</th>\n",
              "      <td>Ahmet</td>\n",
              "      <td>serbest</td>\n",
              "      <td>18.11.2011</td>\n",
              "      <td>44</td>\n",
              "      <td>NaN</td>\n",
              "      <td>55</td>\n",
              "    </tr>\n",
              "    <tr>\n",
              "      <th>4</th>\n",
              "      <td>Mehmet</td>\n",
              "      <td>serbest</td>\n",
              "      <td>18.11.2011</td>\n",
              "      <td>31</td>\n",
              "      <td>NaN</td>\n",
              "      <td>70</td>\n",
              "    </tr>\n",
              "    <tr>\n",
              "      <th>6</th>\n",
              "      <td>Veli</td>\n",
              "      <td>None</td>\n",
              "      <td>None</td>\n",
              "      <td>35</td>\n",
              "      <td>2.0</td>\n",
              "      <td>73</td>\n",
              "    </tr>\n",
              "    <tr>\n",
              "      <th>7</th>\n",
              "      <td>Ayşe</td>\n",
              "      <td>sigortacı</td>\n",
              "      <td>None</td>\n",
              "      <td>33</td>\n",
              "      <td>0.0</td>\n",
              "      <td>79</td>\n",
              "    </tr>\n",
              "    <tr>\n",
              "      <th>8</th>\n",
              "      <td>Hüseyin</td>\n",
              "      <td>işsiz</td>\n",
              "      <td>11.11.2010</td>\n",
              "      <td>42</td>\n",
              "      <td>NaN</td>\n",
              "      <td>54</td>\n",
              "    </tr>\n",
              "    <tr>\n",
              "      <th>10</th>\n",
              "      <td>Nalan</td>\n",
              "      <td>None</td>\n",
              "      <td>18.11.2011</td>\n",
              "      <td>41</td>\n",
              "      <td>NaN</td>\n",
              "      <td>61</td>\n",
              "    </tr>\n",
              "    <tr>\n",
              "      <th>11</th>\n",
              "      <td>Namık</td>\n",
              "      <td>memur</td>\n",
              "      <td>18.11.2011</td>\n",
              "      <td>43</td>\n",
              "      <td>NaN</td>\n",
              "      <td>69</td>\n",
              "    </tr>\n",
              "  </tbody>\n",
              "</table>\n",
              "</div>"
            ],
            "text/plain": [
              "       İsim     Meslek       Tarih  Yaş  ÇocukSayısı  Puan\n",
              "3     Ahmet    serbest  18.11.2011   44          NaN    55\n",
              "4    Mehmet    serbest  18.11.2011   31          NaN    70\n",
              "6      Veli       None        None   35          2.0    73\n",
              "7      Ayşe  sigortacı        None   33          0.0    79\n",
              "8   Hüseyin      işsiz  11.11.2010   42          NaN    54\n",
              "10    Nalan       None  18.11.2011   41          NaN    61\n",
              "11    Namık      memur  18.11.2011   43          NaN    69"
            ]
          },
          "metadata": {},
          "execution_count": 48
        }
      ]
    },
    {
      "cell_type": "code",
      "metadata": {
        "colab": {
          "base_uri": "https://localhost:8080/",
          "height": 426
        },
        "id": "LUzvuRxtk-B4",
        "outputId": "bc94b842-9070-4c72-f51d-3914a31927d8"
      },
      "source": [
        "#büyükten küçüğe sıralama\n",
        "df.sort_values('Puan', axis=0,ascending=False) #True olursa küçükten büyüğe sıralar"
      ],
      "execution_count": null,
      "outputs": [
        {
          "output_type": "execute_result",
          "data": {
            "text/html": [
              "<div>\n",
              "<style scoped>\n",
              "    .dataframe tbody tr th:only-of-type {\n",
              "        vertical-align: middle;\n",
              "    }\n",
              "\n",
              "    .dataframe tbody tr th {\n",
              "        vertical-align: top;\n",
              "    }\n",
              "\n",
              "    .dataframe thead th {\n",
              "        text-align: right;\n",
              "    }\n",
              "</style>\n",
              "<table border=\"1\" class=\"dataframe\">\n",
              "  <thead>\n",
              "    <tr style=\"text-align: right;\">\n",
              "      <th></th>\n",
              "      <th>İsim</th>\n",
              "      <th>Meslek</th>\n",
              "      <th>Tarih</th>\n",
              "      <th>Yaş</th>\n",
              "      <th>ÇocukSayısı</th>\n",
              "      <th>Puan</th>\n",
              "    </tr>\n",
              "  </thead>\n",
              "  <tbody>\n",
              "    <tr>\n",
              "      <th>9</th>\n",
              "      <td>Necmi</td>\n",
              "      <td>None</td>\n",
              "      <td>None</td>\n",
              "      <td>29</td>\n",
              "      <td>NaN</td>\n",
              "      <td>92</td>\n",
              "    </tr>\n",
              "    <tr>\n",
              "      <th>0</th>\n",
              "      <td>Ada</td>\n",
              "      <td>işçi</td>\n",
              "      <td>11.11.2010</td>\n",
              "      <td>21</td>\n",
              "      <td>NaN</td>\n",
              "      <td>89</td>\n",
              "    </tr>\n",
              "    <tr>\n",
              "      <th>1</th>\n",
              "      <td>Cem</td>\n",
              "      <td>işçi</td>\n",
              "      <td>11.11.2010</td>\n",
              "      <td>24</td>\n",
              "      <td>NaN</td>\n",
              "      <td>87</td>\n",
              "    </tr>\n",
              "    <tr>\n",
              "      <th>5</th>\n",
              "      <td>Ali</td>\n",
              "      <td>None</td>\n",
              "      <td>None</td>\n",
              "      <td>27</td>\n",
              "      <td>1.0</td>\n",
              "      <td>79</td>\n",
              "    </tr>\n",
              "    <tr>\n",
              "      <th>7</th>\n",
              "      <td>Ayşe</td>\n",
              "      <td>sigortacı</td>\n",
              "      <td>None</td>\n",
              "      <td>33</td>\n",
              "      <td>0.0</td>\n",
              "      <td>79</td>\n",
              "    </tr>\n",
              "    <tr>\n",
              "      <th>2</th>\n",
              "      <td>Sibel</td>\n",
              "      <td>memur</td>\n",
              "      <td>11.11.2010</td>\n",
              "      <td>25</td>\n",
              "      <td>NaN</td>\n",
              "      <td>77</td>\n",
              "    </tr>\n",
              "    <tr>\n",
              "      <th>6</th>\n",
              "      <td>Veli</td>\n",
              "      <td>None</td>\n",
              "      <td>None</td>\n",
              "      <td>35</td>\n",
              "      <td>2.0</td>\n",
              "      <td>73</td>\n",
              "    </tr>\n",
              "    <tr>\n",
              "      <th>4</th>\n",
              "      <td>Mehmet</td>\n",
              "      <td>serbest</td>\n",
              "      <td>18.11.2011</td>\n",
              "      <td>31</td>\n",
              "      <td>NaN</td>\n",
              "      <td>70</td>\n",
              "    </tr>\n",
              "    <tr>\n",
              "      <th>11</th>\n",
              "      <td>Namık</td>\n",
              "      <td>memur</td>\n",
              "      <td>18.11.2011</td>\n",
              "      <td>43</td>\n",
              "      <td>NaN</td>\n",
              "      <td>69</td>\n",
              "    </tr>\n",
              "    <tr>\n",
              "      <th>10</th>\n",
              "      <td>Nalan</td>\n",
              "      <td>None</td>\n",
              "      <td>18.11.2011</td>\n",
              "      <td>41</td>\n",
              "      <td>NaN</td>\n",
              "      <td>61</td>\n",
              "    </tr>\n",
              "    <tr>\n",
              "      <th>3</th>\n",
              "      <td>Ahmet</td>\n",
              "      <td>serbest</td>\n",
              "      <td>18.11.2011</td>\n",
              "      <td>44</td>\n",
              "      <td>NaN</td>\n",
              "      <td>55</td>\n",
              "    </tr>\n",
              "    <tr>\n",
              "      <th>8</th>\n",
              "      <td>Hüseyin</td>\n",
              "      <td>işsiz</td>\n",
              "      <td>11.11.2010</td>\n",
              "      <td>42</td>\n",
              "      <td>NaN</td>\n",
              "      <td>54</td>\n",
              "    </tr>\n",
              "  </tbody>\n",
              "</table>\n",
              "</div>"
            ],
            "text/plain": [
              "       İsim     Meslek       Tarih  Yaş  ÇocukSayısı  Puan\n",
              "9     Necmi       None        None   29          NaN    92\n",
              "0       Ada       işçi  11.11.2010   21          NaN    89\n",
              "1       Cem       işçi  11.11.2010   24          NaN    87\n",
              "5       Ali       None        None   27          1.0    79\n",
              "7      Ayşe  sigortacı        None   33          0.0    79\n",
              "2     Sibel      memur  11.11.2010   25          NaN    77\n",
              "6      Veli       None        None   35          2.0    73\n",
              "4    Mehmet    serbest  18.11.2011   31          NaN    70\n",
              "11    Namık      memur  18.11.2011   43          NaN    69\n",
              "10    Nalan       None  18.11.2011   41          NaN    61\n",
              "3     Ahmet    serbest  18.11.2011   44          NaN    55\n",
              "8   Hüseyin      işsiz  11.11.2010   42          NaN    54"
            ]
          },
          "metadata": {},
          "execution_count": 49
        }
      ]
    },
    {
      "cell_type": "code",
      "metadata": {
        "colab": {
          "base_uri": "https://localhost:8080/",
          "height": 269
        },
        "id": "n9oSiYdplYIm",
        "outputId": "f7a8d1a1-9ba2-4084-820b-c454db754842"
      },
      "source": [
        "df[(df['Yaş']>30)&(df['Puan']>50)].sort_values('Puan', axis=0,ascending=False)"
      ],
      "execution_count": null,
      "outputs": [
        {
          "output_type": "execute_result",
          "data": {
            "text/html": [
              "<div>\n",
              "<style scoped>\n",
              "    .dataframe tbody tr th:only-of-type {\n",
              "        vertical-align: middle;\n",
              "    }\n",
              "\n",
              "    .dataframe tbody tr th {\n",
              "        vertical-align: top;\n",
              "    }\n",
              "\n",
              "    .dataframe thead th {\n",
              "        text-align: right;\n",
              "    }\n",
              "</style>\n",
              "<table border=\"1\" class=\"dataframe\">\n",
              "  <thead>\n",
              "    <tr style=\"text-align: right;\">\n",
              "      <th></th>\n",
              "      <th>İsim</th>\n",
              "      <th>Meslek</th>\n",
              "      <th>Tarih</th>\n",
              "      <th>Yaş</th>\n",
              "      <th>ÇocukSayısı</th>\n",
              "      <th>Puan</th>\n",
              "    </tr>\n",
              "  </thead>\n",
              "  <tbody>\n",
              "    <tr>\n",
              "      <th>7</th>\n",
              "      <td>Ayşe</td>\n",
              "      <td>sigortacı</td>\n",
              "      <td>None</td>\n",
              "      <td>33</td>\n",
              "      <td>0.0</td>\n",
              "      <td>79</td>\n",
              "    </tr>\n",
              "    <tr>\n",
              "      <th>6</th>\n",
              "      <td>Veli</td>\n",
              "      <td>None</td>\n",
              "      <td>None</td>\n",
              "      <td>35</td>\n",
              "      <td>2.0</td>\n",
              "      <td>73</td>\n",
              "    </tr>\n",
              "    <tr>\n",
              "      <th>4</th>\n",
              "      <td>Mehmet</td>\n",
              "      <td>serbest</td>\n",
              "      <td>18.11.2011</td>\n",
              "      <td>31</td>\n",
              "      <td>NaN</td>\n",
              "      <td>70</td>\n",
              "    </tr>\n",
              "    <tr>\n",
              "      <th>11</th>\n",
              "      <td>Namık</td>\n",
              "      <td>memur</td>\n",
              "      <td>18.11.2011</td>\n",
              "      <td>43</td>\n",
              "      <td>NaN</td>\n",
              "      <td>69</td>\n",
              "    </tr>\n",
              "    <tr>\n",
              "      <th>10</th>\n",
              "      <td>Nalan</td>\n",
              "      <td>None</td>\n",
              "      <td>18.11.2011</td>\n",
              "      <td>41</td>\n",
              "      <td>NaN</td>\n",
              "      <td>61</td>\n",
              "    </tr>\n",
              "    <tr>\n",
              "      <th>3</th>\n",
              "      <td>Ahmet</td>\n",
              "      <td>serbest</td>\n",
              "      <td>18.11.2011</td>\n",
              "      <td>44</td>\n",
              "      <td>NaN</td>\n",
              "      <td>55</td>\n",
              "    </tr>\n",
              "    <tr>\n",
              "      <th>8</th>\n",
              "      <td>Hüseyin</td>\n",
              "      <td>işsiz</td>\n",
              "      <td>11.11.2010</td>\n",
              "      <td>42</td>\n",
              "      <td>NaN</td>\n",
              "      <td>54</td>\n",
              "    </tr>\n",
              "  </tbody>\n",
              "</table>\n",
              "</div>"
            ],
            "text/plain": [
              "       İsim     Meslek       Tarih  Yaş  ÇocukSayısı  Puan\n",
              "7      Ayşe  sigortacı        None   33          0.0    79\n",
              "6      Veli       None        None   35          2.0    73\n",
              "4    Mehmet    serbest  18.11.2011   31          NaN    70\n",
              "11    Namık      memur  18.11.2011   43          NaN    69\n",
              "10    Nalan       None  18.11.2011   41          NaN    61\n",
              "3     Ahmet    serbest  18.11.2011   44          NaN    55\n",
              "8   Hüseyin      işsiz  11.11.2010   42          NaN    54"
            ]
          },
          "metadata": {},
          "execution_count": 50
        }
      ]
    },
    {
      "cell_type": "code",
      "metadata": {
        "id": "gWBa6GkkleLD"
      },
      "source": [
        ""
      ],
      "execution_count": null,
      "outputs": []
    },
    {
      "cell_type": "markdown",
      "metadata": {
        "id": "0KGLkho5le6g"
      },
      "source": [
        "Pandas DataFrame ile İstatistiki İşlemler"
      ]
    },
    {
      "cell_type": "code",
      "metadata": {
        "colab": {
          "base_uri": "https://localhost:8080/"
        },
        "id": "-5ka35i2lloR",
        "outputId": "7fa3b41c-778a-4bb9-ad3f-9deae91cf114"
      },
      "source": [
        "df['Puan'].mean() "
      ],
      "execution_count": null,
      "outputs": [
        {
          "output_type": "execute_result",
          "data": {
            "text/plain": [
              "73.75"
            ]
          },
          "metadata": {},
          "execution_count": 51
        }
      ]
    },
    {
      "cell_type": "code",
      "metadata": {
        "colab": {
          "base_uri": "https://localhost:8080/"
        },
        "id": "fnJXVW4plt3m",
        "outputId": "6f016e29-7f84-4d90-b92e-b69b45e785c8"
      },
      "source": [
        "df['Puan'].median() "
      ],
      "execution_count": null,
      "outputs": [
        {
          "output_type": "execute_result",
          "data": {
            "text/plain": [
              "75.0"
            ]
          },
          "metadata": {},
          "execution_count": 52
        }
      ]
    },
    {
      "cell_type": "code",
      "metadata": {
        "colab": {
          "base_uri": "https://localhost:8080/"
        },
        "id": "guBwMWf9lv99",
        "outputId": "1f500493-321a-4fb5-d108-23983d5999bd"
      },
      "source": [
        "#Sayısal tüm özniteliklerin ortalaması\n",
        "df.mean(axis=0, skipna=True)"
      ],
      "execution_count": null,
      "outputs": [
        {
          "output_type": "execute_result",
          "data": {
            "text/plain": [
              "Yaş            32.916667\n",
              "ÇocukSayısı     1.000000\n",
              "Puan           73.750000\n",
              "dtype: float64"
            ]
          },
          "metadata": {},
          "execution_count": 53
        }
      ]
    },
    {
      "cell_type": "code",
      "metadata": {
        "colab": {
          "base_uri": "https://localhost:8080/"
        },
        "id": "Z5eVCOzLl-Zh",
        "outputId": "003a5279-6aea-4e38-8ea7-9e1c36368650"
      },
      "source": [
        "df['Puan'].std()  #standart Sapma"
      ],
      "execution_count": null,
      "outputs": [
        {
          "output_type": "execute_result",
          "data": {
            "text/plain": [
              "12.606816338069583"
            ]
          },
          "metadata": {},
          "execution_count": 54
        }
      ]
    },
    {
      "cell_type": "code",
      "metadata": {
        "colab": {
          "base_uri": "https://localhost:8080/",
          "height": 143
        },
        "id": "vwMwWdQwmDp8",
        "outputId": "96f370e5-a06d-4b4b-dcbd-24ad34a87db6"
      },
      "source": [
        "#varyans, kovaryans\n",
        "#kovaryans sayısal değerlere sahip özniteliklerin birlikte nasıl değiştiğini araştırır\n",
        "df.cov()\n"
      ],
      "execution_count": null,
      "outputs": [
        {
          "output_type": "execute_result",
          "data": {
            "text/html": [
              "<div>\n",
              "<style scoped>\n",
              "    .dataframe tbody tr th:only-of-type {\n",
              "        vertical-align: middle;\n",
              "    }\n",
              "\n",
              "    .dataframe tbody tr th {\n",
              "        vertical-align: top;\n",
              "    }\n",
              "\n",
              "    .dataframe thead th {\n",
              "        text-align: right;\n",
              "    }\n",
              "</style>\n",
              "<table border=\"1\" class=\"dataframe\">\n",
              "  <thead>\n",
              "    <tr style=\"text-align: right;\">\n",
              "      <th></th>\n",
              "      <th>Yaş</th>\n",
              "      <th>ÇocukSayısı</th>\n",
              "      <th>Puan</th>\n",
              "    </tr>\n",
              "  </thead>\n",
              "  <tbody>\n",
              "    <tr>\n",
              "      <th>Yaş</th>\n",
              "      <td>64.992424</td>\n",
              "      <td>1.0</td>\n",
              "      <td>-87.295455</td>\n",
              "    </tr>\n",
              "    <tr>\n",
              "      <th>ÇocukSayısı</th>\n",
              "      <td>1.000000</td>\n",
              "      <td>1.0</td>\n",
              "      <td>-3.000000</td>\n",
              "    </tr>\n",
              "    <tr>\n",
              "      <th>Puan</th>\n",
              "      <td>-87.295455</td>\n",
              "      <td>-3.0</td>\n",
              "      <td>158.931818</td>\n",
              "    </tr>\n",
              "  </tbody>\n",
              "</table>\n",
              "</div>"
            ],
            "text/plain": [
              "                   Yaş  ÇocukSayısı        Puan\n",
              "Yaş          64.992424          1.0  -87.295455\n",
              "ÇocukSayısı   1.000000          1.0   -3.000000\n",
              "Puan        -87.295455         -3.0  158.931818"
            ]
          },
          "metadata": {},
          "execution_count": 55
        }
      ]
    },
    {
      "cell_type": "code",
      "metadata": {
        "colab": {
          "base_uri": "https://localhost:8080/",
          "height": 143
        },
        "id": "uhFVChWFmVkl",
        "outputId": "f29e57c8-f0dd-4216-f825-3e0c68002fab"
      },
      "source": [
        "#korelasyon\n",
        "df.corr()"
      ],
      "execution_count": null,
      "outputs": [
        {
          "output_type": "execute_result",
          "data": {
            "text/html": [
              "<div>\n",
              "<style scoped>\n",
              "    .dataframe tbody tr th:only-of-type {\n",
              "        vertical-align: middle;\n",
              "    }\n",
              "\n",
              "    .dataframe tbody tr th {\n",
              "        vertical-align: top;\n",
              "    }\n",
              "\n",
              "    .dataframe thead th {\n",
              "        text-align: right;\n",
              "    }\n",
              "</style>\n",
              "<table border=\"1\" class=\"dataframe\">\n",
              "  <thead>\n",
              "    <tr style=\"text-align: right;\">\n",
              "      <th></th>\n",
              "      <th>Yaş</th>\n",
              "      <th>ÇocukSayısı</th>\n",
              "      <th>Puan</th>\n",
              "    </tr>\n",
              "  </thead>\n",
              "  <tbody>\n",
              "    <tr>\n",
              "      <th>Yaş</th>\n",
              "      <td>1.000000</td>\n",
              "      <td>0.240192</td>\n",
              "      <td>-0.858924</td>\n",
              "    </tr>\n",
              "    <tr>\n",
              "      <th>ÇocukSayısı</th>\n",
              "      <td>0.240192</td>\n",
              "      <td>1.000000</td>\n",
              "      <td>-0.866025</td>\n",
              "    </tr>\n",
              "    <tr>\n",
              "      <th>Puan</th>\n",
              "      <td>-0.858924</td>\n",
              "      <td>-0.866025</td>\n",
              "      <td>1.000000</td>\n",
              "    </tr>\n",
              "  </tbody>\n",
              "</table>\n",
              "</div>"
            ],
            "text/plain": [
              "                  Yaş  ÇocukSayısı      Puan\n",
              "Yaş          1.000000     0.240192 -0.858924\n",
              "ÇocukSayısı  0.240192     1.000000 -0.866025\n",
              "Puan        -0.858924    -0.866025  1.000000"
            ]
          },
          "metadata": {},
          "execution_count": 56
        }
      ]
    },
    {
      "cell_type": "code",
      "metadata": {
        "colab": {
          "base_uri": "https://localhost:8080/",
          "height": 312
        },
        "id": "va17-wE4nHA2",
        "outputId": "39dfc6db-be35-47df-ce56-bc51c9f62e4f"
      },
      "source": [
        "df.plot(x='Yaş', y='Puan', style='*', title='Grafik')"
      ],
      "execution_count": null,
      "outputs": [
        {
          "output_type": "execute_result",
          "data": {
            "text/plain": [
              "<matplotlib.axes._subplots.AxesSubplot at 0x7fb06ddb6350>"
            ]
          },
          "metadata": {},
          "execution_count": 57
        },
        {
          "output_type": "display_data",
          "data": {
            "image/png": "[encoded data removed]",
            "text/plain": [
              "<Figure size 432x288 with 1 Axes>"
            ]
          },
          "metadata": {
            "needs_background": "light"
          }
        }
      ]
    },
    {
      "cell_type": "code",
      "metadata": {
        "id": "AcF1P4z7nXm6"
      },
      "source": [
        "#korelasyon gösterimi\n",
        "import seaborn as sns\n"
      ],
      "execution_count": null,
      "outputs": []
    },
    {
      "cell_type": "code",
      "metadata": {
        "colab": {
          "base_uri": "https://localhost:8080/",
          "height": 286
        },
        "id": "GU9DKUf4neSe",
        "outputId": "6090dc59-3e8a-4337-d149-bce959447fe0"
      },
      "source": [
        "corr=df.corr()\n",
        "sns.heatmap(corr,xticklabels=corr.columns.values, yticklabels=corr.columns.values)"
      ],
      "execution_count": null,
      "outputs": [
        {
          "output_type": "execute_result",
          "data": {
            "text/plain": [
              "<matplotlib.axes._subplots.AxesSubplot at 0x7fb06dcf6d50>"
            ]
          },
          "metadata": {},
          "execution_count": 59
        },
        {
          "output_type": "display_data",
          "data": {
            "image/png": "[encoded data removed]",
            "text/plain": [
              "<Figure size 432x288 with 2 Axes>"
            ]
          },
          "metadata": {
            "needs_background": "light"
          }
        }
      ]
    },
    {
      "cell_type": "code",
      "metadata": {
        "colab": {
          "base_uri": "https://localhost:8080/"
        },
        "id": "FNhCgKQbn0_p",
        "outputId": "e18ff784-a1b5-4341-a57b-fc120e08d365"
      },
      "source": [
        "df.columns"
      ],
      "execution_count": null,
      "outputs": [
        {
          "output_type": "execute_result",
          "data": {
            "text/plain": [
              "Index(['İsim', 'Meslek', 'Tarih', 'Yaş', 'ÇocukSayısı', 'Puan'], dtype='object')"
            ]
          },
          "metadata": {},
          "execution_count": 60
        }
      ]
    },
    {
      "cell_type": "code",
      "metadata": {
        "colab": {
          "base_uri": "https://localhost:8080/"
        },
        "id": "a_Cy36dTn4_b",
        "outputId": "db5c5126-defb-424a-86cd-8d06a8dda563"
      },
      "source": [
        "df.index"
      ],
      "execution_count": null,
      "outputs": [
        {
          "output_type": "execute_result",
          "data": {
            "text/plain": [
              "RangeIndex(start=0, stop=12, step=1)"
            ]
          },
          "metadata": {},
          "execution_count": 61
        }
      ]
    },
    {
      "cell_type": "code",
      "metadata": {
        "colab": {
          "base_uri": "https://localhost:8080/",
          "height": 426
        },
        "id": "u7RB_T0Cn8aI",
        "outputId": "edffdbcb-8e39-4583-9b55-f1e6c2c20a6e"
      },
      "source": [
        "df['Kıdem']=[13,23,9,12,5,7,8,5,4,3,2,1]\n",
        "df"
      ],
      "execution_count": null,
      "outputs": [
        {
          "output_type": "execute_result",
          "data": {
            "text/html": [
              "<div>\n",
              "<style scoped>\n",
              "    .dataframe tbody tr th:only-of-type {\n",
              "        vertical-align: middle;\n",
              "    }\n",
              "\n",
              "    .dataframe tbody tr th {\n",
              "        vertical-align: top;\n",
              "    }\n",
              "\n",
              "    .dataframe thead th {\n",
              "        text-align: right;\n",
              "    }\n",
              "</style>\n",
              "<table border=\"1\" class=\"dataframe\">\n",
              "  <thead>\n",
              "    <tr style=\"text-align: right;\">\n",
              "      <th></th>\n",
              "      <th>İsim</th>\n",
              "      <th>Meslek</th>\n",
              "      <th>Tarih</th>\n",
              "      <th>Yaş</th>\n",
              "      <th>ÇocukSayısı</th>\n",
              "      <th>Puan</th>\n",
              "      <th>Kıdem</th>\n",
              "    </tr>\n",
              "  </thead>\n",
              "  <tbody>\n",
              "    <tr>\n",
              "      <th>0</th>\n",
              "      <td>Ada</td>\n",
              "      <td>işçi</td>\n",
              "      <td>11.11.2010</td>\n",
              "      <td>21</td>\n",
              "      <td>NaN</td>\n",
              "      <td>89</td>\n",
              "      <td>13</td>\n",
              "    </tr>\n",
              "    <tr>\n",
              "      <th>1</th>\n",
              "      <td>Cem</td>\n",
              "      <td>işçi</td>\n",
              "      <td>11.11.2010</td>\n",
              "      <td>24</td>\n",
              "      <td>NaN</td>\n",
              "      <td>87</td>\n",
              "      <td>23</td>\n",
              "    </tr>\n",
              "    <tr>\n",
              "      <th>2</th>\n",
              "      <td>Sibel</td>\n",
              "      <td>memur</td>\n",
              "      <td>11.11.2010</td>\n",
              "      <td>25</td>\n",
              "      <td>NaN</td>\n",
              "      <td>77</td>\n",
              "      <td>9</td>\n",
              "    </tr>\n",
              "    <tr>\n",
              "      <th>3</th>\n",
              "      <td>Ahmet</td>\n",
              "      <td>serbest</td>\n",
              "      <td>18.11.2011</td>\n",
              "      <td>44</td>\n",
              "      <td>NaN</td>\n",
              "      <td>55</td>\n",
              "      <td>12</td>\n",
              "    </tr>\n",
              "    <tr>\n",
              "      <th>4</th>\n",
              "      <td>Mehmet</td>\n",
              "      <td>serbest</td>\n",
              "      <td>18.11.2011</td>\n",
              "      <td>31</td>\n",
              "      <td>NaN</td>\n",
              "      <td>70</td>\n",
              "      <td>5</td>\n",
              "    </tr>\n",
              "    <tr>\n",
              "      <th>5</th>\n",
              "      <td>Ali</td>\n",
              "      <td>None</td>\n",
              "      <td>None</td>\n",
              "      <td>27</td>\n",
              "      <td>1.0</td>\n",
              "      <td>79</td>\n",
              "      <td>7</td>\n",
              "    </tr>\n",
              "    <tr>\n",
              "      <th>6</th>\n",
              "      <td>Veli</td>\n",
              "      <td>None</td>\n",
              "      <td>None</td>\n",
              "      <td>35</td>\n",
              "      <td>2.0</td>\n",
              "      <td>73</td>\n",
              "      <td>8</td>\n",
              "    </tr>\n",
              "    <tr>\n",
              "      <th>7</th>\n",
              "      <td>Ayşe</td>\n",
              "      <td>sigortacı</td>\n",
              "      <td>None</td>\n",
              "      <td>33</td>\n",
              "      <td>0.0</td>\n",
              "      <td>79</td>\n",
              "      <td>5</td>\n",
              "    </tr>\n",
              "    <tr>\n",
              "      <th>8</th>\n",
              "      <td>Hüseyin</td>\n",
              "      <td>işsiz</td>\n",
              "      <td>11.11.2010</td>\n",
              "      <td>42</td>\n",
              "      <td>NaN</td>\n",
              "      <td>54</td>\n",
              "      <td>4</td>\n",
              "    </tr>\n",
              "    <tr>\n",
              "      <th>9</th>\n",
              "      <td>Necmi</td>\n",
              "      <td>None</td>\n",
              "      <td>None</td>\n",
              "      <td>29</td>\n",
              "      <td>NaN</td>\n",
              "      <td>92</td>\n",
              "      <td>3</td>\n",
              "    </tr>\n",
              "    <tr>\n",
              "      <th>10</th>\n",
              "      <td>Nalan</td>\n",
              "      <td>None</td>\n",
              "      <td>18.11.2011</td>\n",
              "      <td>41</td>\n",
              "      <td>NaN</td>\n",
              "      <td>61</td>\n",
              "      <td>2</td>\n",
              "    </tr>\n",
              "    <tr>\n",
              "      <th>11</th>\n",
              "      <td>Namık</td>\n",
              "      <td>memur</td>\n",
              "      <td>18.11.2011</td>\n",
              "      <td>43</td>\n",
              "      <td>NaN</td>\n",
              "      <td>69</td>\n",
              "      <td>1</td>\n",
              "    </tr>\n",
              "  </tbody>\n",
              "</table>\n",
              "</div>"
            ],
            "text/plain": [
              "       İsim     Meslek       Tarih  Yaş  ÇocukSayısı  Puan  Kıdem\n",
              "0       Ada       işçi  11.11.2010   21          NaN    89     13\n",
              "1       Cem       işçi  11.11.2010   24          NaN    87     23\n",
              "2     Sibel      memur  11.11.2010   25          NaN    77      9\n",
              "3     Ahmet    serbest  18.11.2011   44          NaN    55     12\n",
              "4    Mehmet    serbest  18.11.2011   31          NaN    70      5\n",
              "5       Ali       None        None   27          1.0    79      7\n",
              "6      Veli       None        None   35          2.0    73      8\n",
              "7      Ayşe  sigortacı        None   33          0.0    79      5\n",
              "8   Hüseyin      işsiz  11.11.2010   42          NaN    54      4\n",
              "9     Necmi       None        None   29          NaN    92      3\n",
              "10    Nalan       None  18.11.2011   41          NaN    61      2\n",
              "11    Namık      memur  18.11.2011   43          NaN    69      1"
            ]
          },
          "metadata": {},
          "execution_count": 64
        }
      ]
    }
  ]
}